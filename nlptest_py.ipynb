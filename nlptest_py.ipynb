{
  "nbformat": 4,
  "nbformat_minor": 0,
  "metadata": {
    "colab": {
      "provenance": [],
      "toc_visible": true,
      "authorship_tag": "ABX9TyO+TULeu+KAXslLUZMmrDIs",
      "include_colab_link": true
    },
    "kernelspec": {
      "name": "python3",
      "display_name": "Python 3"
    },
    "language_info": {
      "name": "python"
    }
  },
  "cells": [
    {
      "cell_type": "markdown",
      "metadata": {
        "id": "view-in-github",
        "colab_type": "text"
      },
      "source": [
        "<a href=\"https://colab.research.google.com/github/krsna24/krsna24/blob/main/nlptest_py.ipynb\" target=\"_parent\"><img src=\"https://colab.research.google.com/assets/colab-badge.svg\" alt=\"Open In Colab\"/></a>"
      ]
    },
    {
      "cell_type": "code",
      "execution_count": 11,
      "metadata": {
        "colab": {
          "base_uri": "https://localhost:8080/"
        },
        "id": "vawNNFuGxbr7",
        "outputId": "eae63b79-af29-4ba0-b545-8f6c0bcd5a54"
      },
      "outputs": [
        {
          "output_type": "stream",
          "name": "stdout",
          "text": [
            "Enter textmy.name;is:krishna\n",
            "['my.name;is', 'krishna']\n",
            "['my.name', 'is:krishna']\n",
            "['my', 'name;is:krishna']\n"
          ]
        }
      ],
      "source": [
        "\n",
        "def segmentation(a):\n",
        "  l=[\":\",\";\",\".\",\",\",\" \"]\n",
        "  for i in l:\n",
        "    if i in a:\n",
        "      print(a.split(i))\n",
        "a=input(\"Enter text\")\n",
        "segmentation(a)"
      ]
    },
    {
      "cell_type": "code",
      "source": [
        "a=\"krishna:sharma\"\n",
        "print(a.split(\":\"))"
      ],
      "metadata": {
        "colab": {
          "base_uri": "https://localhost:8080/"
        },
        "id": "gd7v7SZbzXRD",
        "outputId": "a837d713-b8ed-4510-913a-2597b607ac9a"
      },
      "execution_count": 6,
      "outputs": [
        {
          "output_type": "stream",
          "name": "stdout",
          "text": [
            "['krishna', 'sharma']\n"
          ]
        }
      ]
    },
    {
      "cell_type": "code",
      "source": [
        "import nltk\n",
        "from nltk.tokenize import word_tokenize\n",
        "from nltk.corpus import stopwords\n",
        "nltk.download('punkt')\n",
        "nltk.download('stopwords')\n",
        "str1=input(\"Enter your string: \")\n",
        "tokens=word_tokenize(str1)\n",
        "stop_words=set(stopwords.words('english'))\n",
        "filtered_tokens=[word for word in tokens if word.lower() not in stop_words]\n",
        "print(tokens)\n",
        "print(\"tokens without stopwords\",filtered_tokens)"
      ],
      "metadata": {
        "colab": {
          "base_uri": "https://localhost:8080/"
        },
        "id": "ixAGjqdq3vpu",
        "outputId": "51e1f610-20a9-4ed9-c0f3-f7fa7e9c3cdc"
      },
      "execution_count": 15,
      "outputs": [
        {
          "output_type": "stream",
          "name": "stderr",
          "text": [
            "[nltk_data] Downloading package punkt to /root/nltk_data...\n",
            "[nltk_data]   Package punkt is already up-to-date!\n",
            "[nltk_data] Downloading package stopwords to /root/nltk_data...\n",
            "[nltk_data]   Package stopwords is already up-to-date!\n"
          ]
        },
        {
          "output_type": "stream",
          "name": "stdout",
          "text": [
            "Enter your string: my name is krishna sharma. hi what about you \n",
            "['my', 'name', 'is', 'krishna', 'sharma', '.', 'hi', 'what', 'about', 'you']\n",
            "tokens without stopwords ['name', 'krishna', 'sharma', '.', 'hi']\n"
          ]
        }
      ]
    },
    {
      "cell_type": "markdown",
      "source": [],
      "metadata": {
        "id": "yZigqv1dxfMY"
      }
    }
  ]
}